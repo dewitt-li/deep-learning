{
 "cells": [
  {
   "cell_type": "markdown",
   "metadata": {
    "collapsed": true
   },
   "source": [
    "# Image Classification\n",
    "In this project, you'll classify images from the [CIFAR-10 dataset](https://www.cs.toronto.edu/~kriz/cifar.html).  The dataset consists of airplanes, dogs, cats, and other objects. You'll preprocess the images, then train a convolutional neural network on all the samples. The images need to be normalized and the labels need to be one-hot encoded.  You'll get to apply what you learned and build a convolutional, max pooling, dropout, and fully connected layers.  At the end, you'll get to see your neural network's predictions on the sample images.\n",
    "## Get the Data\n",
    "Run the following cell to download the [CIFAR-10 dataset for python](https://www.cs.toronto.edu/~kriz/cifar-10-python.tar.gz)."
   ]
  },
  {
   "cell_type": "code",
   "execution_count": 1,
   "metadata": {},
   "outputs": [
    {
     "name": "stderr",
     "output_type": "stream",
     "text": [
      "CIFAR-10 Dataset: 171MB [02:06, 1.35MB/s]                              \n"
     ]
    },
    {
     "name": "stdout",
     "output_type": "stream",
     "text": [
      "All files found!\n"
     ]
    }
   ],
   "source": [
    "\"\"\"\n",
    "DON'T MODIFY ANYTHING IN THIS CELL THAT IS BELOW THIS LINE\n",
    "\"\"\"\n",
    "from urllib.request import urlretrieve\n",
    "from os.path import isfile, isdir\n",
    "from tqdm import tqdm\n",
    "import problem_unittests as tests\n",
    "import tarfile\n",
    "\n",
    "cifar10_dataset_folder_path = 'cifar-10-batches-py'\n",
    "\n",
    "# Use Floyd's cifar-10 dataset if present\n",
    "floyd_cifar10_location = '/input/cifar-10/python.tar.gz'\n",
    "if isfile(floyd_cifar10_location):\n",
    "    tar_gz_path = floyd_cifar10_location\n",
    "else:\n",
    "    tar_gz_path = 'cifar-10-python.tar.gz'\n",
    "\n",
    "class DLProgress(tqdm):\n",
    "    last_block = 0\n",
    "\n",
    "    def hook(self, block_num=1, block_size=1, total_size=None):\n",
    "        self.total = total_size\n",
    "        self.update((block_num - self.last_block) * block_size)\n",
    "        self.last_block = block_num\n",
    "\n",
    "if not isfile(tar_gz_path):\n",
    "    with DLProgress(unit='B', unit_scale=True, miniters=1, desc='CIFAR-10 Dataset') as pbar:\n",
    "        urlretrieve(\n",
    "            'https://www.cs.toronto.edu/~kriz/cifar-10-python.tar.gz',\n",
    "            tar_gz_path,\n",
    "            pbar.hook)\n",
    "\n",
    "if not isdir(cifar10_dataset_folder_path):\n",
    "    with tarfile.open(tar_gz_path) as tar:\n",
    "        tar.extractall()\n",
    "        tar.close()\n",
    "\n",
    "\n",
    "tests.test_folder_path(cifar10_dataset_folder_path)"
   ]
  },
  {
   "cell_type": "markdown",
   "metadata": {},
   "source": [
    "## Explore the Data\n",
    "The dataset is broken into batches to prevent your machine from running out of memory.  The CIFAR-10 dataset consists of 5 batches, named `data_batch_1`, `data_batch_2`, etc.. Each batch contains the labels and images that are one of the following:\n",
    "* airplane\n",
    "* automobile\n",
    "* bird\n",
    "* cat\n",
    "* deer\n",
    "* dog\n",
    "* frog\n",
    "* horse\n",
    "* ship\n",
    "* truck\n",
    "\n",
    "Understanding a dataset is part of making predictions on the data.  Play around with the code cell below by changing the `batch_id` and `sample_id`. The `batch_id` is the id for a batch (1-5). The `sample_id` is the id for a image and label pair in the batch.\n",
    "\n",
    "Ask yourself \"What are all possible labels?\", \"What is the range of values for the image data?\", \"Are the labels in order or random?\".  Answers to questions like these will help you preprocess the data and end up with better predictions."
   ]
  },
  {
   "cell_type": "code",
   "execution_count": 2,
   "metadata": {},
   "outputs": [
    {
     "name": "stdout",
     "output_type": "stream",
     "text": [
      "\n",
      "Stats of batch 1:\n",
      "Samples: 10000\n",
      "Label Counts: {0: 1005, 1: 974, 2: 1032, 3: 1016, 4: 999, 5: 937, 6: 1030, 7: 1001, 8: 1025, 9: 981}\n",
      "First 20 Labels: [6, 9, 9, 4, 1, 1, 2, 7, 8, 3, 4, 7, 7, 2, 9, 9, 9, 3, 2, 6]\n",
      "\n",
      "Example of Image 5:\n",
      "Image - Min Value: 0 Max Value: 252\n",
      "Image - Shape: (32, 32, 3)\n",
      "Label - Label Id: 1 Name: automobile\n"
     ]
    },
    {
     "data": {
      "image/png": "[encoded data removed]",
      "text/plain": [
       "<matplotlib.figure.Figure at 0x11ccfb080>"
      ]
     },
     "metadata": {
      "image/png": {
       "height": 250,
       "width": 253
      }
     },
     "output_type": "display_data"
    }
   ],
   "source": [
    "%matplotlib inline\n",
    "%config InlineBackend.figure_format = 'retina'\n",
    "\n",
    "import helper\n",
    "import numpy as np\n",
    "\n",
    "# Explore the dataset\n",
    "batch_id = 1\n",
    "sample_id = 5\n",
    "helper.display_stats(cifar10_dataset_folder_path, batch_id, sample_id)"
   ]
  },
  {
   "cell_type": "markdown",
   "metadata": {},
   "source": [
    "## Implement Preprocess Functions\n",
    "### Normalize\n",
    "In the cell below, implement the `normalize` function to take in image data, `x`, and return it as a normalized Numpy array. The values should be in the range of 0 to 1, inclusive.  The return object should be the same shape as `x`."
   ]
  },
  {
   "cell_type": "code",
   "execution_count": 90,
   "metadata": {},
   "outputs": [
    {
     "name": "stdout",
     "output_type": "stream",
     "text": [
      "[[[[ 0.48046875  0.84765625  0.47265625]\n",
      "   [ 0.15625     0.12109375  0.95703125]\n",
      "   [ 0.14453125  0.1328125   0.67578125]\n",
      "   ..., \n",
      "   [ 0.16015625  0.23828125  0.91796875]\n",
      "   [ 0.16796875  0.98828125  0.02734375]\n",
      "   [ 0.7109375   0.1953125   0.1640625 ]]\n",
      "\n",
      "  [[ 0.6875      0.796875    0.25390625]\n",
      "   [ 0.99609375  0.82421875  0.0625    ]\n",
      "   [ 0.76171875  0.0390625   0.67578125]\n",
      "   ..., \n",
      "   [ 0.578125    0.359375    0.2109375 ]\n",
      "   [ 0.12890625  0.2421875   0.2109375 ]\n",
      "   [ 0.32421875  0.375       0.9375    ]]\n",
      "\n",
      "  [[ 0.9609375   0.01171875  0.31640625]\n",
      "   [ 0.02734375  0.08984375  0.19140625]\n",
      "   [ 0.8515625   0.23828125  0.85546875]\n",
      "   ..., \n",
      "   [ 0.66796875  0.68359375  0.2421875 ]\n",
      "   [ 0.13671875  0.734375    0.84375   ]\n",
      "   [ 0.01953125  0.703125    0.4609375 ]]\n",
      "\n",
      "  ..., \n",
      "  [[ 0.5234375   0.61328125  0.59375   ]\n",
      "   [ 0.23828125  0.08203125  0.45703125]\n",
      "   [ 0.28515625  0.671875    0.546875  ]\n",
      "   ..., \n",
      "   [ 0.71875     0.5390625   0.70703125]\n",
      "   [ 0.59765625  0.65234375  0.2578125 ]\n",
      "   [ 0.171875    0.58203125  0.62890625]]\n",
      "\n",
      "  [[ 0.03515625  0.6015625   0.40625   ]\n",
      "   [ 0.09375     0.234375    0.9375    ]\n",
      "   [ 0.75        0.6484375   0.11328125]\n",
      "   ..., \n",
      "   [ 0.09765625  0.2421875   0.25      ]\n",
      "   [ 0.03515625  0.45703125  0.671875  ]\n",
      "   [ 0.046875    0.76171875  0.828125  ]]\n",
      "\n",
      "  [[ 0.1015625   0.1484375   0.94140625]\n",
      "   [ 0.16796875  0.75390625  0.77734375]\n",
      "   [ 0.89453125  0.46875     0.30859375]\n",
      "   ..., \n",
      "   [ 0.71875     0.84375     0.5859375 ]\n",
      "   [ 0.5625      0.00390625  0.03515625]\n",
      "   [ 0.3984375   0.75390625  0.95703125]]]\n",
      "\n",
      "\n",
      " [[[ 0.90234375  0.08203125  0.7578125 ]\n",
      "   [ 0.83203125  0.36328125  0.73046875]\n",
      "   [ 0.8125      0.4609375   0.9140625 ]\n",
      "   ..., \n",
      "   [ 0.20703125  0.27734375  0.12109375]\n",
      "   [ 0.81640625  0.359375    0.390625  ]\n",
      "   [ 0.69140625  0.08203125  0.35546875]]\n",
      "\n",
      "  [[ 0.28125     0.6640625   0.04296875]\n",
      "   [ 0.71875     0.6171875   0.85546875]\n",
      "   [ 0.98046875  0.37890625  0.94921875]\n",
      "   ..., \n",
      "   [ 0.6875      0.52734375  0.375     ]\n",
      "   [ 0.1875      0.05859375  0.796875  ]\n",
      "   [ 0.921875    0.375       0.734375  ]]\n",
      "\n",
      "  [[ 0.95703125  0.16796875  0.12890625]\n",
      "   [ 0.85546875  0.17578125  0.1171875 ]\n",
      "   [ 0.4921875   0.046875    0.80859375]\n",
      "   ..., \n",
      "   [ 0.484375    0.28515625  0.41015625]\n",
      "   [ 0.82421875  0.79296875  0.7890625 ]\n",
      "   [ 0.91796875  0.54296875  0.2578125 ]]\n",
      "\n",
      "  ..., \n",
      "  [[ 0.31640625  0.73828125  0.88671875]\n",
      "   [ 0.44140625  0.15625     0.03515625]\n",
      "   [ 0.609375    0.89453125  0.54296875]\n",
      "   ..., \n",
      "   [ 0.140625    0.36328125  0.23046875]\n",
      "   [ 0.7109375   0.3515625   0.44140625]\n",
      "   [ 0.421875    0.99609375  0.8125    ]]\n",
      "\n",
      "  [[ 0.81640625  0.33984375  0.40234375]\n",
      "   [ 0.24609375  0.08203125  0.3671875 ]\n",
      "   [ 0.43359375  0.07421875  0.13671875]\n",
      "   ..., \n",
      "   [ 0.65234375  0.84375     0.55859375]\n",
      "   [ 0.5         0.3046875   0.203125  ]\n",
      "   [ 0.44140625  0.19140625  0.46484375]]\n",
      "\n",
      "  [[ 0.93359375  0.97265625  0.91015625]\n",
      "   [ 0.1796875   0.77734375  0.65234375]\n",
      "   [ 0.03515625  0.30078125  0.375     ]\n",
      "   ..., \n",
      "   [ 0.46484375  0.171875    0.875     ]\n",
      "   [ 0.97265625  0.4375      0.78515625]\n",
      "   [ 0.60546875  0.08984375  0.28125   ]]]\n",
      "\n",
      "\n",
      " [[[ 0.515625    0.33203125  0.63671875]\n",
      "   [ 0.41796875  0.3828125   0.41796875]\n",
      "   [ 0.8359375   0.05078125  0.73828125]\n",
      "   ..., \n",
      "   [ 0.1484375   0.0546875   0.36328125]\n",
      "   [ 0.1171875   0.09375     0.98046875]\n",
      "   [ 0.70703125  0.56640625  0.6484375 ]]\n",
      "\n",
      "  [[ 0.38671875  0.3359375   0.32421875]\n",
      "   [ 0.92578125  0.6953125   0.8125    ]\n",
      "   [ 0.94921875  0.2890625   0.625     ]\n",
      "   ..., \n",
      "   [ 0.33203125  0.6484375   0.83984375]\n",
      "   [ 0.50390625  0.89453125  0.98046875]\n",
      "   [ 0.109375    0.5234375   0.3984375 ]]\n",
      "\n",
      "  [[ 0.62109375  0.09375     0.64453125]\n",
      "   [ 0.546875    0.27734375  0.140625  ]\n",
      "   [ 0.89453125  0.02734375  0.15234375]\n",
      "   ..., \n",
      "   [ 0.6875      0.921875    0.50390625]\n",
      "   [ 0.0703125   0.41015625  0.3203125 ]\n",
      "   [ 0.7734375   0.19921875  0.328125  ]]\n",
      "\n",
      "  ..., \n",
      "  [[ 0.51953125  0.12890625  0.1875    ]\n",
      "   [ 0.05078125  0.79296875  0.5234375 ]\n",
      "   [ 0.40234375  0.6875      0.875     ]\n",
      "   ..., \n",
      "   [ 0.734375    0.6015625   0.08203125]\n",
      "   [ 0.6796875   0.75        0.91015625]\n",
      "   [ 0.4765625   0.17578125  0.4921875 ]]\n",
      "\n",
      "  [[ 0.56640625  0.90625     0.34765625]\n",
      "   [ 0.96484375  0.58984375  0.21875   ]\n",
      "   [ 0.8828125   0.70703125  0.75390625]\n",
      "   ..., \n",
      "   [ 0.2578125   0.90234375  0.296875  ]\n",
      "   [ 0.33984375  0.15234375  0.59765625]\n",
      "   [ 0.02734375  0.6796875   0.53125   ]]\n",
      "\n",
      "  [[ 0.953125    0.08984375  0.484375  ]\n",
      "   [ 0.98046875  0.24609375  0.765625  ]\n",
      "   [ 0.1015625   0.77734375  0.86328125]\n",
      "   ..., \n",
      "   [ 0.11328125  0.17578125  0.23046875]\n",
      "   [ 0.58984375  0.22265625  0.390625  ]\n",
      "   [ 0.32421875  0.3984375   0.3359375 ]]]\n",
      "\n",
      "\n",
      " ..., \n",
      " [[[ 0.078125    0.98828125  0.85546875]\n",
      "   [ 0.01171875  0.828125    0.03125   ]\n",
      "   [ 0.59375     0.703125    0.54296875]\n",
      "   ..., \n",
      "   [ 0.75390625  0.9921875   0.83984375]\n",
      "   [ 0.08984375  0.28125     0.984375  ]\n",
      "   [ 0.9140625   0.5390625   0.41796875]]\n",
      "\n",
      "  [[ 0.78125     0.859375    0.6953125 ]\n",
      "   [ 0.01171875  0.671875    0.71484375]\n",
      "   [ 0.09765625  0.07421875  0.16796875]\n",
      "   ..., \n",
      "   [ 0.87109375  0.97265625  0.85546875]\n",
      "   [ 0.5859375   0.8046875   0.7421875 ]\n",
      "   [ 0.0078125   0.9140625   0.9140625 ]]\n",
      "\n",
      "  [[ 0.0390625   0.81640625  0.73828125]\n",
      "   [ 0.7734375   0.9921875   0.02734375]\n",
      "   [ 0.1875      0.859375    0.41015625]\n",
      "   ..., \n",
      "   [ 0.12890625  0.40234375  0.703125  ]\n",
      "   [ 0.328125    0.46875     0.99609375]\n",
      "   [ 0.83984375  0.48828125  0.11328125]]\n",
      "\n",
      "  ..., \n",
      "  [[ 0.29296875  0.78125     0.66015625]\n",
      "   [ 0.671875    0.359375    0.4453125 ]\n",
      "   [ 0.16796875  0.87890625  0.1171875 ]\n",
      "   ..., \n",
      "   [ 0.265625    0.96875     0.12890625]\n",
      "   [ 0.15234375  0.21484375  0.1328125 ]\n",
      "   [ 0.84375     0.73828125  0.75390625]]\n",
      "\n",
      "  [[ 0.67578125  0.28515625  0.1484375 ]\n",
      "   [ 0.57421875  0.7734375   0.96484375]\n",
      "   [ 0.12890625  0.015625    0.63671875]\n",
      "   ..., \n",
      "   [ 0.984375    0.35546875  0.56640625]\n",
      "   [ 0.85546875  0.55859375  0.0234375 ]\n",
      "   [ 0.9375      0.50390625  0.765625  ]]\n",
      "\n",
      "  [[ 0.5         0.16015625  0.97265625]\n",
      "   [ 0.59375     0.265625    0.3203125 ]\n",
      "   [ 0.05859375  0.33203125  0.63671875]\n",
      "   ..., \n",
      "   [ 0.04296875  0.91796875  0.75      ]\n",
      "   [ 0.          0.3046875   0.953125  ]\n",
      "   [ 0.45703125  0.984375    0.85546875]]]\n",
      "\n",
      "\n",
      " [[[ 0.33203125  0.05078125  0.6484375 ]\n",
      "   [ 0.66796875  0.32421875  0.87109375]\n",
      "   [ 0.99609375  0.10546875  0.4453125 ]\n",
      "   ..., \n",
      "   [ 0.91015625  0.1875      0.875     ]\n",
      "   [ 0.62890625  0.0703125   0.8671875 ]\n",
      "   [ 0.8828125   0.7578125   0.328125  ]]\n",
      "\n",
      "  [[ 0.8046875   0.24609375  0.28125   ]\n",
      "   [ 0.17578125  0.95703125  0.67578125]\n",
      "   [ 0.6484375   0.87109375  0.84765625]\n",
      "   ..., \n",
      "   [ 0.40234375  0.3203125   0.7109375 ]\n",
      "   [ 0.7578125   0.60546875  0.30078125]\n",
      "   [ 0.53125     0.2109375   0.28515625]]\n",
      "\n",
      "  [[ 0.55078125  0.4609375   0.109375  ]\n",
      "   [ 0.31640625  0.8828125   0.87109375]\n",
      "   [ 0.1796875   0.2265625   0.7890625 ]\n",
      "   ..., \n",
      "   [ 0.0625      0.07421875  0.296875  ]\n",
      "   [ 0.08203125  0.6484375   0.4921875 ]\n",
      "   [ 0.671875    0.60546875  0.80859375]]\n",
      "\n",
      "  ..., \n",
      "  [[ 0.0546875   0.5859375   0.5234375 ]\n",
      "   [ 0.78125     0.73828125  0.9921875 ]\n",
      "   [ 0.98828125  0.78125     0.83203125]\n",
      "   ..., \n",
      "   [ 0.8203125   0.55859375  0.671875  ]\n",
      "   [ 0.33203125  0.0234375   0.515625  ]\n",
      "   [ 0.3125      0.015625    0.45703125]]\n",
      "\n",
      "  [[ 0.17578125  0.87890625  0.671875  ]\n",
      "   [ 0.5859375   0.51953125  0.10546875]\n",
      "   [ 0.390625    0.546875    0.23828125]\n",
      "   ..., \n",
      "   [ 0.06640625  0.875       0.265625  ]\n",
      "   [ 0.65234375  0.41796875  0.796875  ]\n",
      "   [ 0.5234375   0.1015625   0.6328125 ]]\n",
      "\n",
      "  [[ 0.6015625   0.69140625  0.4609375 ]\n",
      "   [ 0.296875    0.93359375  0.72265625]\n",
      "   [ 0.41015625  0.80859375  0.67578125]\n",
      "   ..., \n",
      "   [ 0.2421875   0.0234375   0.0703125 ]\n",
      "   [ 0.6015625   0.1328125   0.8203125 ]\n",
      "   [ 0.6328125   0.015625    0.56640625]]]\n",
      "\n",
      "\n",
      " [[[ 0.90625     0.8515625   0.890625  ]\n",
      "   [ 0.6953125   0.90234375  0.35546875]\n",
      "   [ 0.64453125  0.68359375  0.50390625]\n",
      "   ..., \n",
      "   [ 0.8828125   0.671875    0.14453125]\n",
      "   [ 0.98828125  0.984375    0.37109375]\n",
      "   [ 0.5234375   0.23828125  0.25390625]]\n",
      "\n",
      "  [[ 0.48828125  0.42578125  0.48828125]\n",
      "   [ 0.453125    0.890625    0.19140625]\n",
      "   [ 0.1328125   0.18359375  0.55859375]\n",
      "   ..., \n",
      "   [ 0.4921875   0.2578125   0.5703125 ]\n",
      "   [ 0.42578125  0.22265625  0.08203125]\n",
      "   [ 0.96875     0.6171875   0.703125  ]]\n",
      "\n",
      "  [[ 0.53125     0.92578125  0.203125  ]\n",
      "   [ 0.82421875  0.1796875   0.40625   ]\n",
      "   [ 0.703125    0.87890625  0.24609375]\n",
      "   ..., \n",
      "   [ 0.36328125  0.22265625  0.62890625]\n",
      "   [ 0.54296875  0.90234375  0.84375   ]\n",
      "   [ 0.2890625   0.546875    0.5625    ]]\n",
      "\n",
      "  ..., \n",
      "  [[ 0.08984375  0.87109375  0.60546875]\n",
      "   [ 0.83984375  0.59765625  0.62890625]\n",
      "   [ 0.89453125  0.7890625   0.375     ]\n",
      "   ..., \n",
      "   [ 0.6328125   0.70703125  0.75      ]\n",
      "   [ 0.5546875   0.26953125  0.39453125]\n",
      "   [ 0.29296875  0.4375      0.78125   ]]\n",
      "\n",
      "  [[ 0.671875    0.90625     0.03515625]\n",
      "   [ 0.5234375   0.546875    0.484375  ]\n",
      "   [ 0.80078125  0.38671875  0.17578125]\n",
      "   ..., \n",
      "   [ 0.75        0.03515625  0.88671875]\n",
      "   [ 0.69921875  0.09765625  0.11328125]\n",
      "   [ 0.50390625  0.44140625  0.91796875]]\n",
      "\n",
      "  [[ 0.234375    0.46875     0.671875  ]\n",
      "   [ 0.21875     0.29296875  0.5703125 ]\n",
      "   [ 0.81640625  0.04296875  0.25390625]\n",
      "   ..., \n",
      "   [ 0.0078125   0.26171875  0.1953125 ]\n",
      "   [ 0.65234375  0.859375    0.18359375]\n",
      "   [ 0.96484375  0.73828125  0.6015625 ]]]]\n",
      "Tests Passed\n"
     ]
    }
   ],
   "source": [
    "def normalize(x):\n",
    "    \"\"\"\n",
    "    Normalize a list of sample image data in the range of 0 to 1\n",
    "    : x: List of image data.  The image shape is (32, 32, 3)\n",
    "    : return: Numpy array of normalize data\n",
    "    \"\"\"\n",
    "    # TODO: Implement Function\n",
    "    return x/256\n",
    "\n",
    "\"\"\"\n",
    "DON'T MODIFY ANYTHING IN THIS CELL THAT IS BELOW THIS LINE\n",
    "\"\"\"\n",
    "tests.test_normalize(normalize)"
   ]
  },
  {
   "cell_type": "markdown",
   "metadata": {},
   "source": [
    "### One-hot encode\n",
    "Just like the previous code cell, you'll be implementing a function for preprocessing.  This time, you'll implement the `one_hot_encode` function. The input, `x`, are a list of labels.  Implement the function to return the list of labels as One-Hot encoded Numpy array.  The possible values for labels are 0 to 9. The one-hot encoding function should return the same encoding for each value between each call to `one_hot_encode`.  Make sure to save the map of encodings outside the function.\n",
    "\n",
    "Hint: Don't reinvent the wheel."
   ]
  },
  {
   "cell_type": "code",
   "execution_count": 10,
   "metadata": {},
   "outputs": [
    {
     "name": "stdout",
     "output_type": "stream",
     "text": [
      "Tests Passed\n"
     ]
    }
   ],
   "source": [
    "from sklearn import preprocessing\n",
    "labels=[0,1,2,3,4,5,6,7,8,9]\n",
    "lb=preprocessing.LabelBinarizer()\n",
    "lb.fit(labels)\n",
    "def one_hot_encode(x):\n",
    "    \"\"\"\n",
    "    One hot encode a list of sample labels. Return a one-hot encoded vector for each label.\n",
    "    : x: List of sample Labels\n",
    "    : return: Numpy array of one-hot encoded labels\n",
    "    \"\"\"\n",
    "    # TODO: Implement Function\n",
    "    return lb.transform(x)\n",
    "\n",
    "\n",
    "\"\"\"\n",
    "DON'T MODIFY ANYTHING IN THIS CELL THAT IS BELOW THIS LINE\n",
    "\"\"\"\n",
    "tests.test_one_hot_encode(one_hot_encode)"
   ]
  },
  {
   "cell_type": "markdown",
   "metadata": {},
   "source": [
    "### Randomize Data\n",
    "As you saw from exploring the data above, the order of the samples are randomized.  It doesn't hurt to randomize it again, but you don't need to for this dataset."
   ]
  },
  {
   "cell_type": "markdown",
   "metadata": {},
   "source": [
    "## Preprocess all the data and save it\n",
    "Running the code cell below will preprocess all the CIFAR-10 data and save it to file. The code below also uses 10% of the training data for validation."
   ]
  },
  {
   "cell_type": "code",
   "execution_count": 11,
   "metadata": {
    "collapsed": true
   },
   "outputs": [],
   "source": [
    "\"\"\"\n",
    "DON'T MODIFY ANYTHING IN THIS CELL\n",
    "\"\"\"\n",
    "# Preprocess Training, Validation, and Testing Data\n",
    "helper.preprocess_and_save_data(cifar10_dataset_folder_path, normalize, one_hot_encode)"
   ]
  },
  {
   "cell_type": "markdown",
   "metadata": {},
   "source": [
    "# Check Point\n",
    "This is your first checkpoint.  If you ever decide to come back to this notebook or have to restart the notebook, you can start from here.  The preprocessed data has been saved to disk."
   ]
  },
  {
   "cell_type": "code",
   "execution_count": 3,
   "metadata": {
    "collapsed": true
   },
   "outputs": [],
   "source": [
    "\"\"\"\n",
    "DON'T MODIFY ANYTHING IN THIS CELL\n",
    "\"\"\"\n",
    "import pickle\n",
    "import problem_unittests as tests\n",
    "import helper\n",
    "\n",
    "# Load the Preprocessed Validation data\n",
    "valid_features, valid_labels = pickle.load(open('preprocess_validation.p', mode='rb'))"
   ]
  },
  {
   "cell_type": "markdown",
   "metadata": {},
   "source": [
    "## Build the network\n",
    "For the neural network, you'll build each layer into a function.  Most of the code you've seen has been outside of functions. To test your code more thoroughly, we require that you put each layer in a function.  This allows us to give you better feedback and test for simple mistakes using our unittests before you submit your project.\n",
    "\n",
    ">**Note:** If you're finding it hard to dedicate enough time for this course each week, we've provided a small shortcut to this part of the project. In the next couple of problems, you'll have the option to use classes from the [TensorFlow Layers](https://www.tensorflow.org/api_docs/python/tf/layers) or [TensorFlow Layers (contrib)](https://www.tensorflow.org/api_guides/python/contrib.layers) packages to build each layer, except the layers you build in the \"Convolutional and Max Pooling Layer\" section.  TF Layers is similar to Keras's and TFLearn's abstraction to layers, so it's easy to pickup.\n",
    "\n",
    ">However, if you would like to get the most out of this course, try to solve all the problems _without_ using anything from the TF Layers packages. You **can** still use classes from other packages that happen to have the same name as ones you find in TF Layers! For example, instead of using the TF Layers version of the `conv2d` class, [tf.layers.conv2d](https://www.tensorflow.org/api_docs/python/tf/layers/conv2d), you would want to use the TF Neural Network version of `conv2d`, [tf.nn.conv2d](https://www.tensorflow.org/api_docs/python/tf/nn/conv2d). \n",
    "\n",
    "Let's begin!\n",
    "\n",
    "### Input\n",
    "The neural network needs to read the image data, one-hot encoded labels, and dropout keep probability. Implement the following functions\n",
    "* Implement `neural_net_image_input`\n",
    " * Return a [TF Placeholder](https://www.tensorflow.org/api_docs/python/tf/placeholder)\n",
    " * Set the shape using `image_shape` with batch size set to `None`.\n",
    " * Name the TensorFlow placeholder \"x\" using the TensorFlow `name` parameter in the [TF Placeholder](https://www.tensorflow.org/api_docs/python/tf/placeholder).\n",
    "* Implement `neural_net_label_input`\n",
    " * Return a [TF Placeholder](https://www.tensorflow.org/api_docs/python/tf/placeholder)\n",
    " * Set the shape using `n_classes` with batch size set to `None`.\n",
    " * Name the TensorFlow placeholder \"y\" using the TensorFlow `name` parameter in the [TF Placeholder](https://www.tensorflow.org/api_docs/python/tf/placeholder).\n",
    "* Implement `neural_net_keep_prob_input`\n",
    " * Return a [TF Placeholder](https://www.tensorflow.org/api_docs/python/tf/placeholder) for dropout keep probability.\n",
    " * Name the TensorFlow placeholder \"keep_prob\" using the TensorFlow `name` parameter in the [TF Placeholder](https://www.tensorflow.org/api_docs/python/tf/placeholder).\n",
    "\n",
    "These names will be used at the end of the project to load your saved model.\n",
    "\n",
    "Note: `None` for shapes in TensorFlow allow for a dynamic size."
   ]
  },
  {
   "cell_type": "code",
   "execution_count": 6,
   "metadata": {},
   "outputs": [
    {
     "name": "stdout",
     "output_type": "stream",
     "text": [
      "Image Input Tests Passed.\n",
      "Label Input Tests Passed.\n",
      "Keep Prob Tests Passed.\n"
     ]
    }
   ],
   "source": [
    "import tensorflow as tf\n",
    "\n",
    "def neural_net_image_input(image_shape):\n",
    "    \"\"\"\n",
    "    Return a Tensor for a batch of image input\n",
    "    : image_shape: Shape of the images\n",
    "    : return: Tensor for image input.\n",
    "    \"\"\"\n",
    "    input_shape=[None,image_shape[0],image_shape[1],image_shape[2]]\n",
    "    # TODO: Implement Function\n",
    "    return tf.placeholder(tf.float32,shape=input_shape,name='x')\n",
    "\n",
    "\n",
    "def neural_net_label_input(n_classes):\n",
    "    \"\"\"\n",
    "    Return a Tensor for a batch of label input\n",
    "    : n_classes: Number of classes\n",
    "    : return: Tensor for label input.\n",
    "    \"\"\"\n",
    "    # TODO: Implement Function\n",
    "    return tf.placeholder(tf.float32,shape=[None,n_classes],name='y')\n",
    "\n",
    "\n",
    "def neural_net_keep_prob_input():\n",
    "    \"\"\"\n",
    "    Return a Tensor for keep probability\n",
    "    : return: Tensor for keep probability.\n",
    "    \"\"\"\n",
    "    # TODO: Implement Function\n",
    "    return tf.placeholder(tf.float32,name='keep_prob')\n",
    "\n",
    "\n",
    "\"\"\"\n",
    "DON'T MODIFY ANYTHING IN THIS CELL THAT IS BELOW THIS LINE\n",
    "\"\"\"\n",
    "tf.reset_default_graph()\n",
    "tests.test_nn_image_inputs(neural_net_image_input)\n",
    "tests.test_nn_label_inputs(neural_net_label_input)\n",
    "tests.test_nn_keep_prob_inputs(neural_net_keep_prob_input)"
   ]
  },
  {
   "cell_type": "markdown",
   "metadata": {},
   "source": [
    "### Convolution and Max Pooling Layer\n",
    "Convolution layers have a lot of success with images. For this code cell, you should implement the function `conv2d_maxpool` to apply convolution then max pooling:\n",
    "* Create the weight and bias using `conv_ksize`, `conv_num_outputs` and the shape of `x_tensor`.\n",
    "* Apply a convolution to `x_tensor` using weight and `conv_strides`.\n",
    " * We recommend you use same padding, but you're welcome to use any padding.\n",
    "* Add bias\n",
    "* Add a nonlinear activation to the convolution.\n",
    "* Apply Max Pooling using `pool_ksize` and `pool_strides`.\n",
    " * We recommend you use same padding, but you're welcome to use any padding.\n",
    "\n",
    "**Note:** You **can't** use [TensorFlow Layers](https://www.tensorflow.org/api_docs/python/tf/layers) or [TensorFlow Layers (contrib)](https://www.tensorflow.org/api_guides/python/contrib.layers) for **this** layer, but you can still use TensorFlow's [Neural Network](https://www.tensorflow.org/api_docs/python/tf/nn) package. You may still use the shortcut option for all the **other** layers."
   ]
  },
  {
   "cell_type": "code",
   "execution_count": 72,
   "metadata": {},
   "outputs": [
    {
     "name": "stdout",
     "output_type": "stream",
     "text": [
      "Tests Passed\n"
     ]
    }
   ],
   "source": [
    "def conv2d_maxpool(x_tensor, conv_num_outputs, conv_ksize, conv_strides, pool_ksize, pool_strides):\n",
    "    \"\"\"\n",
    "    Apply convolution then max pooling to x_tensor\n",
    "    :param x_tensor: TensorFlow Tensor\n",
    "    :param conv_num_outputs: Number of outputs for the convolutional layer\n",
    "    :param conv_ksize: kernal size 2-D Tuple for the convolutional layer\n",
    "    :param conv_strides: Stride 2-D Tuple for convolution\n",
    "    :param pool_ksize: kernal size 2-D Tuple for pool\n",
    "    :param pool_strides: Stride 2-D Tuple for pool\n",
    "    : return: A tensor that represents convolution and max pooling of x_tensor\n",
    "    \"\"\"\n",
    "    # TODO: Implement Function\n",
    "    \n",
    "    input_depth = x_tensor.shape[3].value\n",
    "    weights_shape = [conv_ksize[0], conv_ksize[1],input_depth, conv_num_outputs]\n",
    "    weights = tf.Variable(tf.truncated_normal(weights_shape,mean=0.0,stddev=0.1)) \n",
    "    bias = tf.Variable(tf.zeros(conv_num_outputs))\n",
    "    conv = tf.nn.conv2d(x_tensor, weights, strides=[1, conv_strides[0], conv_strides[1], 1], padding='SAME')\n",
    "    conv = tf.nn.bias_add(conv,bias)\n",
    "    conv = tf.nn.max_pool(conv,ksize=[1,pool_ksize[0],pool_ksize[1],1],strides=[1,pool_strides[0],pool_strides[1],1],padding='SAME')\n",
    "    conv = tf.nn.elu(conv)\n",
    "    return conv \n",
    "\n",
    "\n",
    "\"\"\"\n",
    "DON'T MODIFY ANYTHING IN THIS CELL THAT IS BELOW THIS LINE\n",
    "\"\"\"\n",
    "tests.test_con_pool(conv2d_maxpool)"
   ]
  },
  {
   "cell_type": "markdown",
   "metadata": {},
   "source": [
    "### Flatten Layer\n",
    "Implement the `flatten` function to change the dimension of `x_tensor` from a 4-D tensor to a 2-D tensor.  The output should be the shape (*Batch Size*, *Flattened Image Size*). Shortcut option: you can use classes from the [TensorFlow Layers](https://www.tensorflow.org/api_docs/python/tf/layers) or [TensorFlow Layers (contrib)](https://www.tensorflow.org/api_guides/python/contrib.layers) packages for this layer. For more of a challenge, only use other TensorFlow packages."
   ]
  },
  {
   "cell_type": "code",
   "execution_count": 73,
   "metadata": {},
   "outputs": [
    {
     "name": "stdout",
     "output_type": "stream",
     "text": [
      "Tests Passed\n"
     ]
    }
   ],
   "source": [
    "def flatten(x_tensor):\n",
    "    \"\"\"\n",
    "    Flatten x_tensor to (Batch Size, Flattened Image Size)\n",
    "    : x_tensor: A tensor of size (Batch Size, ...), where ... are the image dimensions.\n",
    "    : return: A tensor of size (Batch Size, Flattened Image Size).\n",
    "    \"\"\"\n",
    "    # TODO: Implement Function\n",
    "    x_tensor = tf.reshape(x_tensor, [-1, x_tensor.shape[1].value*x_tensor.shape[2].value*x_tensor.shape[3].value])\n",
    "    return x_tensor\n",
    "\n",
    "\n",
    "\"\"\"\n",
    "DON'T MODIFY ANYTHING IN THIS CELL THAT IS BELOW THIS LINE\n",
    "\"\"\"\n",
    "tests.test_flatten(flatten)"
   ]
  },
  {
   "cell_type": "markdown",
   "metadata": {},
   "source": [
    "### Fully-Connected Layer\n",
    "Implement the `fully_conn` function to apply a fully connected layer to `x_tensor` with the shape (*Batch Size*, *num_outputs*). Shortcut option: you can use classes from the [TensorFlow Layers](https://www.tensorflow.org/api_docs/python/tf/layers) or [TensorFlow Layers (contrib)](https://www.tensorflow.org/api_guides/python/contrib.layers) packages for this layer. For more of a challenge, only use other TensorFlow packages."
   ]
  },
  {
   "cell_type": "code",
   "execution_count": 87,
   "metadata": {},
   "outputs": [
    {
     "name": "stdout",
     "output_type": "stream",
     "text": [
      "Tests Passed\n"
     ]
    }
   ],
   "source": [
    "def fully_conn(x_tensor, num_outputs):\n",
    "    \"\"\"\n",
    "    Apply a fully connected layer to x_tensor using weight and bias\n",
    "    : x_tensor: A 2-D tensor where the first dimension is batch size.\n",
    "    : num_outputs: The number of output that the new tensor should be.\n",
    "    : return: A 2-D tensor where the second dimension is num_outputs.\n",
    "    \"\"\"\n",
    "    # TODO: Implement Function\n",
    "    return tf.contrib.layers.fully_connected(x_tensor,num_outputs,activation_fn=tf.nn.relu)\n",
    "\n",
    "\"\"\"\n",
    "DON'T MODIFY ANYTHING IN THIS CELL THAT IS BELOW THIS LINE\n",
    "\"\"\"\n",
    "tests.test_fully_conn(fully_conn)"
   ]
  },
  {
   "cell_type": "markdown",
   "metadata": {},
   "source": [
    "### Output Layer\n",
    "Implement the `output` function to apply a fully connected layer to `x_tensor` with the shape (*Batch Size*, *num_outputs*). Shortcut option: you can use classes from the [TensorFlow Layers](https://www.tensorflow.org/api_docs/python/tf/layers) or [TensorFlow Layers (contrib)](https://www.tensorflow.org/api_guides/python/contrib.layers) packages for this layer. For more of a challenge, only use other TensorFlow packages.\n",
    "\n",
    "**Note:** Activation, softmax, or cross entropy should **not** be applied to this."
   ]
  },
  {
   "cell_type": "code",
   "execution_count": 88,
   "metadata": {},
   "outputs": [
    {
     "name": "stdout",
     "output_type": "stream",
     "text": [
      "Tests Passed\n"
     ]
    }
   ],
   "source": [
    "def output(x_tensor, num_outputs):\n",
    "    \"\"\"\n",
    "    Apply a output layer to x_tensor using weight and bias\n",
    "    : x_tensor: A 2-D tensor where the first dimension is batch size.\n",
    "    : num_outputs: The number of output that the new tensor should be.\n",
    "    : return: A 2-D tensor where the second dimension is num_outputs.\n",
    "    \"\"\"\n",
    "    # TODO: Implement Function\n",
    "    return tf.contrib.layers.fully_connected(x_tensor,num_outputs,activation_fn=None)\n",
    "\n",
    "\n",
    "\"\"\"\n",
    "DON'T MODIFY ANYTHING IN THIS CELL THAT IS BELOW THIS LINE\n",
    "\"\"\"\n",
    "tests.test_output(output)"
   ]
  },
  {
   "cell_type": "markdown",
   "metadata": {},
   "source": [
    "### Create Convolutional Model\n",
    "Implement the function `conv_net` to create a convolutional neural network model. The function takes in a batch of images, `x`, and outputs logits.  Use the layers you created above to create this model:\n",
    "\n",
    "* Apply 1, 2, or 3 Convolution and Max Pool layers\n",
    "* Apply a Flatten Layer\n",
    "* Apply 1, 2, or 3 Fully Connected Layers\n",
    "* Apply an Output Layer\n",
    "* Return the output\n",
    "* Apply [TensorFlow's Dropout](https://www.tensorflow.org/api_docs/python/tf/nn/dropout) to one or more layers in the model using `keep_prob`. "
   ]
  },
  {
   "cell_type": "code",
   "execution_count": 95,
   "metadata": {},
   "outputs": [
    {
     "name": "stdout",
     "output_type": "stream",
     "text": [
      "Neural Network Built!\n"
     ]
    }
   ],
   "source": [
    "def conv_net(x, keep_prob):\n",
    "    \"\"\"\n",
    "    Create a convolutional neural network model\n",
    "    : x: Placeholder tensor that holds image data.\n",
    "    : keep_prob: Placeholder tensor that hold dropout keep probability.\n",
    "    : return: Tensor that represents logits\n",
    "    \"\"\"\n",
    "    # TODO: Apply 1, 2, or 3 Convolution and Max Pool layers\n",
    "    #    Play around with different number of outputs, kernel size and stride\n",
    "    # Function Definition from Above:\n",
    "    #    conv2d_maxpool(x_tensor, conv_num_outputs, conv_ksize, conv_strides, pool_ksize, pool_strides)\n",
    "    \n",
    "    x_tensor=conv2d_maxpool(x, 32, (3,3), (1,1), (2,2), (2,2))\n",
    "    x_tensor=conv2d_maxpool(x_tensor, 64, (3,3), (1,1), (2,2), (2,2))\n",
    "    x_tensor=conv2d_maxpool(x_tensor, 128, (3,3), (1,1), (2,2), (2,2))\n",
    "    # TODO: Apply a Flatten Layer\n",
    "    # Function Definition from Above:\n",
    "    #   flatten(x_tensor)\n",
    "    x_tensor=flatten(x_tensor)\n",
    "\n",
    "    # TODO: Apply 1, 2, or 3 Fully Connected Layers\n",
    "    #    Play around with different number of outputs\n",
    "    # Function Definition from Above:\n",
    "    #   fully_conn(x_tensor, num_outputs)\n",
    "    x_tensor=fully_conn(x_tensor, 32)\n",
    "    x_tensor=fully_conn(x_tensor, 64)\n",
    "    x_tensor=fully_conn(x_tensor, 128)\n",
    "    x_tensor = tf.nn.dropout(x_tensor, keep_prob)\n",
    "    # TODO: Apply an Output Layer\n",
    "    #    Set this to the number of classes\n",
    "    # Function Definition from Above:\n",
    "    #   output(x_tensor, num_outputs)\n",
    "    num_outputs=10\n",
    "    x_tensor=output(x_tensor, num_outputs)\n",
    "    \n",
    "    \n",
    "    # TODO: return output\n",
    "    return x_tensor\n",
    "\n",
    "\n",
    "\"\"\"\n",
    "DON'T MODIFY ANYTHING IN THIS CELL THAT IS BELOW THIS LINE\n",
    "\"\"\"\n",
    "\n",
    "##############################\n",
    "## Build the Neural Network ##\n",
    "##############################\n",
    "\n",
    "# Remove previous weights, bias, inputs, etc..\n",
    "tf.reset_default_graph()\n",
    "\n",
    "# Inputs\n",
    "x = neural_net_image_input((32, 32, 3))\n",
    "y = neural_net_label_input(10)\n",
    "keep_prob = neural_net_keep_prob_input()\n",
    "\n",
    "# Model\n",
    "logits = conv_net(x, keep_prob)\n",
    "\n",
    "# Name logits Tensor, so that is can be loaded from disk after training\n",
    "logits = tf.identity(logits, name='logits')\n",
    "\n",
    "# Loss and Optimizer\n",
    "cost = tf.reduce_mean(tf.nn.softmax_cross_entropy_with_logits(logits=logits, labels=y))\n",
    "optimizer = tf.train.AdamOptimizer().minimize(cost)\n",
    "\n",
    "# Accuracy\n",
    "correct_pred = tf.equal(tf.argmax(logits, 1), tf.argmax(y, 1))\n",
    "accuracy = tf.reduce_mean(tf.cast(correct_pred, tf.float32), name='accuracy')\n",
    "\n",
    "tests.test_conv_net(conv_net)"
   ]
  },
  {
   "cell_type": "markdown",
   "metadata": {},
   "source": [
    "## Train the Neural Network\n",
    "### Single Optimization\n",
    "Implement the function `train_neural_network` to do a single optimization.  The optimization should use `optimizer` to optimize in `session` with a `feed_dict` of the following:\n",
    "* `x` for image input\n",
    "* `y` for labels\n",
    "* `keep_prob` for keep probability for dropout\n",
    "\n",
    "This function will be called for each batch, so `tf.global_variables_initializer()` has already been called.\n",
    "\n",
    "Note: Nothing needs to be returned. This function is only optimizing the neural network."
   ]
  },
  {
   "cell_type": "code",
   "execution_count": 90,
   "metadata": {},
   "outputs": [
    {
     "name": "stdout",
     "output_type": "stream",
     "text": [
      "Tests Passed\n"
     ]
    }
   ],
   "source": [
    "def train_neural_network(session, optimizer, keep_probability, feature_batch, label_batch):\n",
    "    \"\"\"\n",
    "    Optimize the session on a batch of images and labels\n",
    "    : session: Current TensorFlow session\n",
    "    : optimizer: TensorFlow optimizer function\n",
    "    : keep_probability: keep probability\n",
    "    : feature_batch: Batch of Numpy image data\n",
    "    : label_batch: Batch of Numpy label data\n",
    "    \"\"\"\n",
    "    # TODO: Implement Function\n",
    "    session.run(optimizer, feed_dict={\n",
    "                x: feature_batch,\n",
    "                y: label_batch,\n",
    "                keep_prob: keep_probability})\n",
    "\n",
    "\n",
    "\"\"\"\n",
    "DON'T MODIFY ANYTHING IN THIS CELL THAT IS BELOW THIS LINE\n",
    "\"\"\"\n",
    "tests.test_train_nn(train_neural_network)"
   ]
  },
  {
   "cell_type": "markdown",
   "metadata": {},
   "source": [
    "### Show Stats\n",
    "Implement the function `print_stats` to print loss and validation accuracy.  Use the global variables `valid_features` and `valid_labels` to calculate validation accuracy.  Use a keep probability of `1.0` to calculate the loss and validation accuracy."
   ]
  },
  {
   "cell_type": "code",
   "execution_count": 91,
   "metadata": {
    "collapsed": true
   },
   "outputs": [],
   "source": [
    "def print_stats(session, feature_batch, label_batch, cost, accuracy):\n",
    "    \"\"\"\n",
    "    Print information about loss and validation accuracy\n",
    "    : session: Current TensorFlow session\n",
    "    : feature_batch: Batch of Numpy image data\n",
    "    : label_batch: Batch of Numpy label data\n",
    "    : cost: TensorFlow cost function\n",
    "    : accuracy: TensorFlow accuracy function\n",
    "    \"\"\"\n",
    "    # TODO: Implement Function\n",
    "    loss = session.run(cost, feed_dict={x: feature_batch,y: label_batch,keep_prob: 1.})\n",
    "    print('Loss: {}'.format(loss))\n",
    "    \n",
    "    valid_acc = session.run(accuracy, feed_dict={x: valid_features,y: valid_labels,keep_prob: 1.})\n",
    "    print('Validation Accuracy: {}'.format(valid_acc))"
   ]
  },
  {
   "cell_type": "markdown",
   "metadata": {},
   "source": [
    "### Hyperparameters\n",
    "Tune the following parameters:\n",
    "* Set `epochs` to the number of iterations until the network stops learning or start overfitting\n",
    "* Set `batch_size` to the highest number that your machine has memory for.  Most people set them to common sizes of memory:\n",
    " * 64\n",
    " * 128\n",
    " * 256\n",
    " * ...\n",
    "* Set `keep_probability` to the probability of keeping a node using dropout"
   ]
  },
  {
   "cell_type": "code",
   "execution_count": 97,
   "metadata": {
    "collapsed": true
   },
   "outputs": [],
   "source": [
    "# TODO: Tune Parameters\n",
    "epochs = 10\n",
    "batch_size = 128\n",
    "keep_probability = 0.5"
   ]
  },
  {
   "cell_type": "markdown",
   "metadata": {},
   "source": [
    "### Train on a Single CIFAR-10 Batch\n",
    "Instead of training the neural network on all the CIFAR-10 batches of data, let's use a single batch. This should save time while you iterate on the model to get a better accuracy.  Once the final validation accuracy is 50% or greater, run the model on all the data in the next section."
   ]
  },
  {
   "cell_type": "code",
   "execution_count": 96,
   "metadata": {},
   "outputs": [
    {
     "name": "stdout",
     "output_type": "stream",
     "text": [
      "Checking the Training on a Single Batch...\n",
      "Epoch  1, CIFAR-10 Batch 1:  Loss: 2.121335983276367\n",
      "Validation Accuracy: 0.2825999855995178\n",
      "Epoch  2, CIFAR-10 Batch 1:  Loss: 1.821290373802185\n",
      "Validation Accuracy: 0.34459999203681946\n",
      "Epoch  3, CIFAR-10 Batch 1:  Loss: 1.499361276626587\n",
      "Validation Accuracy: 0.44760000705718994\n",
      "Epoch  4, CIFAR-10 Batch 1:  Loss: 1.2517375946044922\n",
      "Validation Accuracy: 0.4812000095844269\n"
     ]
    }
   ],
   "source": [
    "\"\"\"\n",
    "DON'T MODIFY ANYTHING IN THIS CELL\n",
    "\"\"\"\n",
    "print('Checking the Training on a Single Batch...')\n",
    "with tf.Session() as sess:\n",
    "    # Initializing the variables\n",
    "    sess.run(tf.global_variables_initializer())\n",
    "    \n",
    "    # Training cycle\n",
    "    for epoch in range(epochs):\n",
    "        batch_i = 1\n",
    "        for batch_features, batch_labels in helper.load_preprocess_training_batch(batch_i, batch_size):\n",
    "            train_neural_network(sess, optimizer, keep_probability, batch_features, batch_labels)\n",
    "        print('Epoch {:>2}, CIFAR-10 Batch {}:  '.format(epoch + 1, batch_i), end='')\n",
    "        print_stats(sess, batch_features, batch_labels, cost, accuracy)"
   ]
  },
  {
   "cell_type": "markdown",
   "metadata": {},
   "source": [
    "### Fully Train the Model\n",
    "Now that you got a good accuracy with a single CIFAR-10 batch, try it with all five batches."
   ]
  },
  {
   "cell_type": "code",
   "execution_count": 98,
   "metadata": {},
   "outputs": [
    {
     "name": "stdout",
     "output_type": "stream",
     "text": [
      "Training...\n",
      "Epoch  1, CIFAR-10 Batch 1:  Loss: 2.23311185836792\n",
      "Validation Accuracy: 0.19840000569820404\n",
      "Epoch  1, CIFAR-10 Batch 2:  Loss: 1.8215017318725586\n",
      "Validation Accuracy: 0.34599998593330383\n",
      "Epoch  1, CIFAR-10 Batch 3:  Loss: 1.4693963527679443\n",
      "Validation Accuracy: 0.3962000012397766\n",
      "Epoch  1, CIFAR-10 Batch 4:  Loss: 1.4999051094055176\n",
      "Validation Accuracy: 0.43799999356269836\n",
      "Epoch  1, CIFAR-10 Batch 5:  Loss: 1.4385759830474854\n",
      "Validation Accuracy: 0.48840001225471497\n",
      "Epoch  2, CIFAR-10 Batch 1:  Loss: 1.401365041732788\n",
      "Validation Accuracy: 0.5217999815940857\n",
      "Epoch  2, CIFAR-10 Batch 2:  Loss: 1.359205961227417\n",
      "Validation Accuracy: 0.5224000215530396\n",
      "Epoch  2, CIFAR-10 Batch 3:  Loss: 0.999459445476532\n",
      "Validation Accuracy: 0.5278000235557556\n",
      "Epoch  2, CIFAR-10 Batch 4:  Loss: 1.0569616556167603\n",
      "Validation Accuracy: 0.5722000002861023\n",
      "Epoch  2, CIFAR-10 Batch 5:  Loss: 1.0590487718582153\n",
      "Validation Accuracy: 0.5667999982833862\n",
      "Epoch  3, CIFAR-10 Batch 1:  Loss: 1.0489773750305176\n",
      "Validation Accuracy: 0.5853999853134155\n",
      "Epoch  3, CIFAR-10 Batch 2:  Loss: 1.0196796655654907\n",
      "Validation Accuracy: 0.6018000245094299\n",
      "Epoch  3, CIFAR-10 Batch 3:  Loss: 0.7708076238632202\n",
      "Validation Accuracy: 0.6096000075340271\n",
      "Epoch  3, CIFAR-10 Batch 4:  Loss: 0.8926475644111633\n",
      "Validation Accuracy: 0.6047999858856201\n",
      "Epoch  3, CIFAR-10 Batch 5:  Loss: 0.8125567436218262\n",
      "Validation Accuracy: 0.6164000034332275\n",
      "Epoch  4, CIFAR-10 Batch 1:  Loss: 0.8723453283309937\n",
      "Validation Accuracy: 0.6158000230789185\n",
      "Epoch  4, CIFAR-10 Batch 2:  Loss: 0.794741690158844\n",
      "Validation Accuracy: 0.6295999884605408\n",
      "Epoch  4, CIFAR-10 Batch 3:  Loss: 0.6354233622550964\n",
      "Validation Accuracy: 0.6377999782562256\n",
      "Epoch  4, CIFAR-10 Batch 4:  Loss: 0.7547049522399902\n",
      "Validation Accuracy: 0.6230000257492065\n",
      "Epoch  4, CIFAR-10 Batch 5:  Loss: 0.5598846077919006\n",
      "Validation Accuracy: 0.6421999931335449\n",
      "Epoch  5, CIFAR-10 Batch 1:  Loss: 0.7436392307281494\n",
      "Validation Accuracy: 0.6370000243186951\n",
      "Epoch  5, CIFAR-10 Batch 2:  Loss: 0.5858772993087769\n",
      "Validation Accuracy: 0.6592000126838684\n",
      "Epoch  5, CIFAR-10 Batch 3:  Loss: 0.4615461230278015\n",
      "Validation Accuracy: 0.649399995803833\n",
      "Epoch  5, CIFAR-10 Batch 4:  Loss: 0.5587372779846191\n",
      "Validation Accuracy: 0.6592000126838684\n",
      "Epoch  5, CIFAR-10 Batch 5:  Loss: 0.433735191822052\n",
      "Validation Accuracy: 0.6675999760627747\n",
      "Epoch  6, CIFAR-10 Batch 1:  Loss: 0.5948876142501831\n",
      "Validation Accuracy: 0.6538000106811523\n",
      "Epoch  6, CIFAR-10 Batch 2:  Loss: 0.48232120275497437\n",
      "Validation Accuracy: 0.6620000004768372\n",
      "Epoch  6, CIFAR-10 Batch 3:  Loss: 0.3743320405483246\n",
      "Validation Accuracy: 0.6782000064849854\n",
      "Epoch  6, CIFAR-10 Batch 4:  Loss: 0.5083451271057129\n",
      "Validation Accuracy: 0.6589999794960022\n",
      "Epoch  6, CIFAR-10 Batch 5:  Loss: 0.36029088497161865\n",
      "Validation Accuracy: 0.6543999910354614\n",
      "Epoch  7, CIFAR-10 Batch 1:  Loss: 0.5455135107040405\n",
      "Validation Accuracy: 0.659600019454956\n",
      "Epoch  7, CIFAR-10 Batch 2:  Loss: 0.39804452657699585\n",
      "Validation Accuracy: 0.6690000295639038\n",
      "Epoch  7, CIFAR-10 Batch 3:  Loss: 0.24864821135997772\n",
      "Validation Accuracy: 0.6787999868392944\n",
      "Epoch  7, CIFAR-10 Batch 4:  Loss: 0.35790854692459106\n",
      "Validation Accuracy: 0.6769999861717224\n",
      "Epoch  7, CIFAR-10 Batch 5:  Loss: 0.2991076111793518\n",
      "Validation Accuracy: 0.6601999998092651\n",
      "Epoch  8, CIFAR-10 Batch 1:  Loss: 0.48649635910987854\n",
      "Validation Accuracy: 0.6603999733924866\n",
      "Epoch  8, CIFAR-10 Batch 2:  Loss: 0.2868272364139557\n",
      "Validation Accuracy: 0.6790000200271606\n",
      "Epoch  8, CIFAR-10 Batch 3:  Loss: 0.2068406343460083\n",
      "Validation Accuracy: 0.6863999962806702\n",
      "Epoch  8, CIFAR-10 Batch 4:  Loss: 0.33209091424942017\n",
      "Validation Accuracy: 0.6855999827384949\n",
      "Epoch  8, CIFAR-10 Batch 5:  Loss: 0.3168450891971588\n",
      "Validation Accuracy: 0.6636000275611877\n",
      "Epoch  9, CIFAR-10 Batch 1:  Loss: 0.41432109475135803\n",
      "Validation Accuracy: 0.6876000165939331\n",
      "Epoch  9, CIFAR-10 Batch 2:  Loss: 0.2492385357618332\n",
      "Validation Accuracy: 0.670199990272522\n",
      "Epoch  9, CIFAR-10 Batch 3:  Loss: 0.21506376564502716\n",
      "Validation Accuracy: 0.6955999732017517\n",
      "Epoch  9, CIFAR-10 Batch 4:  Loss: 0.29562753438949585\n",
      "Validation Accuracy: 0.6818000078201294\n",
      "Epoch  9, CIFAR-10 Batch 5:  Loss: 0.23806354403495789\n",
      "Validation Accuracy: 0.6934000253677368\n",
      "Epoch 10, CIFAR-10 Batch 1:  Loss: 0.36260443925857544\n",
      "Validation Accuracy: 0.6868000030517578\n",
      "Epoch 10, CIFAR-10 Batch 2:  Loss: 0.180862158536911\n",
      "Validation Accuracy: 0.6863999962806702\n",
      "Epoch 10, CIFAR-10 Batch 3:  Loss: 0.17582395672798157\n",
      "Validation Accuracy: 0.6845999956130981\n",
      "Epoch 10, CIFAR-10 Batch 4:  Loss: 0.19853836297988892\n",
      "Validation Accuracy: 0.6805999875068665\n",
      "Epoch 10, CIFAR-10 Batch 5:  Loss: 0.20714429020881653\n",
      "Validation Accuracy: 0.6940000057220459\n"
     ]
    }
   ],
   "source": [
    "\"\"\"\n",
    "DON'T MODIFY ANYTHING IN THIS CELL\n",
    "\"\"\"\n",
    "save_model_path = './image_classification'\n",
    "\n",
    "print('Training...')\n",
    "with tf.Session() as sess:\n",
    "    # Initializing the variables\n",
    "    sess.run(tf.global_variables_initializer())\n",
    "    \n",
    "    # Training cycle\n",
    "    for epoch in range(epochs):\n",
    "        # Loop over all batches\n",
    "        n_batches = 5\n",
    "        for batch_i in range(1, n_batches + 1):\n",
    "            for batch_features, batch_labels in helper.load_preprocess_training_batch(batch_i, batch_size):\n",
    "                train_neural_network(sess, optimizer, keep_probability, batch_features, batch_labels)\n",
    "            print('Epoch {:>2}, CIFAR-10 Batch {}:  '.format(epoch + 1, batch_i), end='')\n",
    "            print_stats(sess, batch_features, batch_labels, cost, accuracy)\n",
    "            \n",
    "    # Save Model\n",
    "    saver = tf.train.Saver()\n",
    "    save_path = saver.save(sess, save_model_path)"
   ]
  },
  {
   "cell_type": "markdown",
   "metadata": {},
   "source": [
    "# Checkpoint\n",
    "The model has been saved to disk.\n",
    "## Test Model\n",
    "Test your model against the test dataset.  This will be your final accuracy. You should have an accuracy greater than 50%. If you don't, keep tweaking the model architecture and parameters."
   ]
  },
  {
   "cell_type": "code",
   "execution_count": 99,
   "metadata": {},
   "outputs": [
    {
     "name": "stdout",
     "output_type": "stream",
     "text": [
      "INFO:tensorflow:Restoring parameters from ./image_classification\n",
      "Testing Accuracy: 0.6973892405063291\n",
      "\n"
     ]
    },
    {
     "data": {
      "image/png": "[encoded data removed]",
      "text/plain": [
       "<matplotlib.figure.Figure at 0x11c71ff98>"
      ]
     },
     "metadata": {
      "image/png": {
       "height": 319,
       "width": 355
      }
     },
     "output_type": "display_data"
    }
   ],
   "source": [
    "\"\"\"\n",
    "DON'T MODIFY ANYTHING IN THIS CELL\n",
    "\"\"\"\n",
    "%matplotlib inline\n",
    "%config InlineBackend.figure_format = 'retina'\n",
    "\n",
    "import tensorflow as tf\n",
    "import pickle\n",
    "import helper\n",
    "import random\n",
    "\n",
    "# Set batch size if not already set\n",
    "try:\n",
    "    if batch_size:\n",
    "        pass\n",
    "except NameError:\n",
    "    batch_size = 64\n",
    "\n",
    "save_model_path = './image_classification'\n",
    "n_samples = 4\n",
    "top_n_predictions = 3\n",
    "\n",
    "def test_model():\n",
    "    \"\"\"\n",
    "    Test the saved model against the test dataset\n",
    "    \"\"\"\n",
    "\n",
    "    test_features, test_labels = pickle.load(open('preprocess_test.p', mode='rb'))\n",
    "    loaded_graph = tf.Graph()\n",
    "\n",
    "    with tf.Session(graph=loaded_graph) as sess:\n",
    "        # Load model\n",
    "        loader = tf.train.import_meta_graph(save_model_path + '.meta')\n",
    "        loader.restore(sess, save_model_path)\n",
    "\n",
    "        # Get Tensors from loaded model\n",
    "        loaded_x = loaded_graph.get_tensor_by_name('x:0')\n",
    "        loaded_y = loaded_graph.get_tensor_by_name('y:0')\n",
    "        loaded_keep_prob = loaded_graph.get_tensor_by_name('keep_prob:0')\n",
    "        loaded_logits = loaded_graph.get_tensor_by_name('logits:0')\n",
    "        loaded_acc = loaded_graph.get_tensor_by_name('accuracy:0')\n",
    "        \n",
    "        # Get accuracy in batches for memory limitations\n",
    "        test_batch_acc_total = 0\n",
    "        test_batch_count = 0\n",
    "        \n",
    "        for test_feature_batch, test_label_batch in helper.batch_features_labels(test_features, test_labels, batch_size):\n",
    "            test_batch_acc_total += sess.run(\n",
    "                loaded_acc,\n",
    "                feed_dict={loaded_x: test_feature_batch, loaded_y: test_label_batch, loaded_keep_prob: 1.0})\n",
    "            test_batch_count += 1\n",
    "\n",
    "        print('Testing Accuracy: {}\\n'.format(test_batch_acc_total/test_batch_count))\n",
    "\n",
    "        # Print Random Samples\n",
    "        random_test_features, random_test_labels = tuple(zip(*random.sample(list(zip(test_features, test_labels)), n_samples)))\n",
    "        random_test_predictions = sess.run(\n",
    "            tf.nn.top_k(tf.nn.softmax(loaded_logits), top_n_predictions),\n",
    "            feed_dict={loaded_x: random_test_features, loaded_y: random_test_labels, loaded_keep_prob: 1.0})\n",
    "        helper.display_image_predictions(random_test_features, random_test_labels, random_test_predictions)\n",
    "\n",
    "\n",
    "test_model()"
   ]
  },
  {
   "cell_type": "markdown",
   "metadata": {},
   "source": [
    "## Why 50-80% Accuracy?\n",
    "You might be wondering why you can't get an accuracy any higher. First things first, 50% isn't bad for a simple CNN.  Pure guessing would get you 10% accuracy. However, you might notice people are getting scores [well above 80%](http://rodrigob.github.io/are_we_there_yet/build/classification_datasets_results.html#43494641522d3130).  That's because we haven't taught you all there is to know about neural networks. We still need to cover a few more techniques.\n",
    "## Submitting This Project\n",
    "When submitting this project, make sure to run all the cells before saving the notebook.  Save the notebook file as \"dlnd_image_classification.ipynb\" and save it as a HTML file under \"File\" -> \"Download as\".  Include the \"helper.py\" and \"problem_unittests.py\" files in your submission."
   ]
  }
 ],
 "metadata": {
  "kernelspec": {
   "display_name": "Python 3",
   "language": "python",
   "name": "python3"
  },
  "language_info": {
   "codemirror_mode": {
    "name": "ipython",
    "version": 3
   },
   "file_extension": ".py",
   "mimetype": "text/x-python",
   "name": "python",
   "nbconvert_exporter": "python",
   "pygments_lexer": "ipython3",
   "version": "3.6.1"
  }
 },
 "nbformat": 4,
 "nbformat_minor": 1
}
